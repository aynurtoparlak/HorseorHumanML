{
  "nbformat": 4,
  "nbformat_minor": 0,
  "metadata": {
    "colab": {
      "name": "HorseorHuman__1950044009_CSE552_Aynur_Toparlak.ipynb",
      "provenance": [],
      "collapsed_sections": [],
      "machine_shape": "hm"
    },
    "kernelspec": {
      "name": "python3",
      "display_name": "Python 3"
    },
    "accelerator": "TPU"
  },
  "cells": [
    {
      "cell_type": "markdown",
      "metadata": {
        "id": "ZDqwBoJ393Fl"
      },
      "source": [
        "**Machine Learning - Horse or Human Project**\n",
        "\n",
        "Aynur TOPARLAK\n"
      ]
    },
    {
      "cell_type": "code",
      "metadata": {
        "id": "nvkYk4xs9G_k"
      },
      "source": [
        "import seaborn as sns\n",
        "\n",
        "import os\n",
        "import zipfile\n",
        "import cv2\n",
        "import numpy as np\n",
        "\n",
        "%matplotlib inline\n",
        "import matplotlib.pyplot as plt\n",
        "import matplotlib.image as mpimg\n",
        "from PIL import Image\n",
        "\n",
        "import tensorflow as tf\n",
        "from tensorflow.keras.optimizers import RMSprop\n",
        "from tensorflow.keras.preprocessing.image import ImageDataGenerator\n",
        "from tensorflow.keras.preprocessing.image import img_to_array, load_img\n",
        "\n",
        "from sklearn.neighbors import KNeighborsClassifier\n",
        "from sklearn.model_selection import cross_val_score\n",
        "from sklearn import svm\n",
        "from sklearn import metrics\n",
        "from sklearn.metrics import roc_curve, auc\n",
        "from sklearn.model_selection import train_test_split\n",
        "from sklearn.ensemble import RandomForestClassifier\n",
        "from sklearn.decomposition import PCA\n",
        "\n",
        "from google.colab.patches import cv2_imshow\n"
      ],
      "execution_count": null,
      "outputs": []
    },
    {
      "cell_type": "code",
      "metadata": {
        "id": "JEV5hFbTILDq",
        "colab": {
          "base_uri": "https://localhost:8080/",
          "height": 217
        },
        "outputId": "53687fbd-4882-4c25-8ef4-7488c6dba928"
      },
      "source": [
        "!wget --no-check-certificate \\\n",
        "    https://storage.googleapis.com/laurencemoroney-blog.appspot.com/horse-or-human.zip \\\n",
        "    -O /tmp/horse-or-human.zip"
      ],
      "execution_count": null,
      "outputs": [
        {
          "output_type": "stream",
          "text": [
            "--2020-07-08 12:09:20--  https://storage.googleapis.com/laurencemoroney-blog.appspot.com/horse-or-human.zip\n",
            "Resolving storage.googleapis.com (storage.googleapis.com)... 108.177.112.128, 74.125.124.128, 172.217.212.128, ...\n",
            "Connecting to storage.googleapis.com (storage.googleapis.com)|108.177.112.128|:443... connected.\n",
            "HTTP request sent, awaiting response... 200 OK\n",
            "Length: 149574867 (143M) [application/zip]\n",
            "Saving to: ‘/tmp/horse-or-human.zip’\n",
            "\n",
            "/tmp/horse-or-human 100%[===================>] 142.65M   148MB/s    in 1.0s    \n",
            "\n",
            "2020-07-08 12:09:21 (148 MB/s) - ‘/tmp/horse-or-human.zip’ saved [149574867/149574867]\n",
            "\n"
          ],
          "name": "stdout"
        }
      ]
    },
    {
      "cell_type": "code",
      "metadata": {
        "id": "KeeNJrWjIUla"
      },
      "source": [
        "local_zip = '/tmp/horse-or-human.zip'\n",
        "zip_ref = zipfile.ZipFile(local_zip, 'r')\n",
        "zip_ref.extractall('/tmp/horse-or-human')\n",
        "zip_ref.close()\n",
        "\n",
        "# Directory with our training horse pictures\n",
        "train_horse_dir = os.path.join('/tmp/horse-or-human/horses')\n",
        "\n",
        "# Directory with our training human pictures\n",
        "train_human_dir = os.path.join('/tmp/horse-or-human/humans')\n",
        "\n",
        "train_horse_names = os.listdir(train_horse_dir)\n",
        "\n",
        "train_human_names = os.listdir(train_human_dir)\n",
        "\n",
        "horse_img_files = [os.path.join(train_horse_dir, f) for f in train_horse_names]\n",
        "human_img_files = [os.path.join(train_human_dir, f) for f in train_human_names]\n"
      ],
      "execution_count": null,
      "outputs": []
    },
    {
      "cell_type": "code",
      "metadata": {
        "id": "LbrIxDLFadz7",
        "colab": {
          "base_uri": "https://localhost:8080/",
          "height": 33
        },
        "outputId": "3965e61f-3003-4f0a-d5d1-ba59775a4517"
      },
      "source": [
        "!ls '/tmp/horse-or-human'"
      ],
      "execution_count": null,
      "outputs": [
        {
          "output_type": "stream",
          "text": [
            "horses\thumans\n"
          ],
          "name": "stdout"
        }
      ]
    },
    {
      "cell_type": "code",
      "metadata": {
        "id": "pLcIp2GknHu6"
      },
      "source": [
        "def hogImage(path):\n",
        "  img=cv2.imread(path,0)\n",
        "  resized = cv2.resize(img, (150,150))\n",
        "  img = np.array(resized, dtype=np.uint8)\n",
        "  hog = cv2.HOGDescriptor()\n",
        "  hogdscriptor = hog.compute(img)\n",
        "  d1,d2=hogdscriptor.shape\n",
        "  hogdscriptor= hogdscriptor.reshape(1,d1)\n",
        "  return hogdscriptor\n",
        "\n",
        "def colourImage(path):\n",
        "  img = load_img(path, target_size=(300, 300))  # this is a PIL image\n",
        "  x = img_to_array(img)  # Numpy array with shape (150, 150, 3)\n",
        "  x = x.reshape((1,) + x.shape)  # Numpy array with shape (1, 150, 150, 3)\n",
        "  x /= 255\n",
        "\n",
        "  d1, d2, d3, d4 = x.shape\n",
        "  color_features = x.reshape((1,d2*d3*d4))\n",
        "  return color_features \n",
        "\n",
        "def combineImages(color_features,hogdscriptor):\n",
        "  combine = np.concatenate((color_features, hogdscriptor),axis=1)\n",
        "  d1,d2=combine.shape\n",
        "  combine= combine.reshape(d2)\n",
        "  return combine \n"
      ],
      "execution_count": null,
      "outputs": []
    },
    {
      "cell_type": "code",
      "metadata": {
        "id": "gv9jEdQBRTl_",
        "colab": {
          "base_uri": "https://localhost:8080/",
          "height": 50
        },
        "outputId": "a6645682-6d6c-4215-9a98-235d25220520"
      },
      "source": [
        "listHumHorIm =  []\n",
        "label =  []\n",
        "\n",
        "for path in (horse_img_files):\n",
        "  hogdscriptor=hogImage(path)\n",
        "  color_features=colourImage(path)\n",
        "  featureVector=combineImages(color_features,hogdscriptor)\n",
        "  listHumHorIm.append(featureVector)\n",
        "  label.append(0)\n",
        "\n",
        "for path in (human_img_files):\n",
        "  hogImage(path)\n",
        "  colourImage(path)\n",
        "  combineImages(color_features,hogdscriptor)\n",
        "  listHumHorIm.append(featureVector)\n",
        "  label.append(1)\n",
        "\n",
        "\n",
        "print(len(listHumHorIm))\n",
        "print(len(label))\n"
      ],
      "execution_count": null,
      "outputs": [
        {
          "output_type": "stream",
          "text": [
            "1027\n",
            "1027\n"
          ],
          "name": "stdout"
        }
      ]
    },
    {
      "cell_type": "code",
      "metadata": {
        "id": "npNFlRFOEiRI",
        "colab": {
          "base_uri": "https://localhost:8080/",
          "height": 70
        },
        "outputId": "543d90d6-24e6-400b-eeaf-98fa50bf6b0b"
      },
      "source": [
        "xTrain, xTest, yTrain, yTest = train_test_split(listHumHorIm, label, test_size = 0.2, random_state = 0)\n",
        "print(len(xTrain))\n",
        "print(yTrain)"
      ],
      "execution_count": null,
      "outputs": [
        {
          "output_type": "stream",
          "text": [
            "821\n",
            "[1, 0, 0, 0, 0, 1, 1, 0, 1, 0, 0, 0, 1, 1, 1, 1, 0, 1, 0, 1, 1, 0, 1, 0, 1, 1, 1, 1, 0, 0, 0, 1, 0, 0, 1, 0, 0, 1, 0, 1, 1, 0, 0, 1, 0, 0, 1, 0, 0, 1, 0, 0, 0, 1, 0, 1, 1, 0, 1, 0, 0, 0, 0, 1, 0, 1, 1, 1, 0, 0, 1, 0, 0, 0, 1, 1, 1, 1, 0, 0, 1, 1, 0, 1, 1, 0, 1, 0, 1, 0, 1, 1, 0, 1, 1, 0, 0, 1, 0, 1, 1, 1, 0, 1, 0, 0, 0, 0, 0, 1, 1, 0, 0, 1, 0, 0, 1, 1, 1, 1, 0, 1, 1, 1, 1, 0, 0, 0, 0, 1, 1, 0, 0, 0, 0, 1, 0, 1, 1, 1, 0, 0, 1, 0, 0, 0, 1, 1, 0, 1, 1, 0, 0, 0, 0, 0, 0, 0, 1, 0, 1, 0, 1, 1, 1, 1, 0, 1, 1, 0, 0, 0, 0, 0, 0, 0, 0, 0, 0, 0, 0, 0, 0, 1, 0, 0, 1, 1, 0, 0, 1, 0, 1, 0, 0, 0, 1, 1, 1, 1, 1, 1, 0, 1, 1, 1, 0, 0, 1, 0, 0, 0, 1, 0, 1, 0, 1, 0, 1, 0, 1, 1, 0, 1, 1, 1, 1, 0, 1, 1, 0, 0, 0, 0, 0, 0, 1, 1, 0, 1, 1, 1, 1, 0, 1, 1, 1, 0, 0, 1, 0, 0, 0, 0, 1, 1, 1, 0, 1, 0, 0, 1, 1, 0, 0, 1, 1, 1, 0, 1, 0, 0, 1, 0, 0, 1, 1, 0, 1, 0, 1, 0, 1, 1, 0, 1, 1, 1, 0, 0, 1, 1, 0, 0, 1, 0, 0, 0, 1, 0, 0, 0, 1, 0, 0, 1, 1, 1, 1, 0, 1, 0, 1, 0, 0, 0, 1, 0, 1, 1, 0, 0, 0, 0, 1, 1, 1, 1, 0, 1, 0, 0, 0, 1, 0, 0, 0, 1, 1, 0, 1, 1, 0, 0, 0, 1, 0, 0, 0, 0, 1, 1, 1, 1, 0, 1, 0, 1, 0, 1, 1, 0, 0, 0, 1, 1, 1, 1, 1, 0, 1, 0, 1, 0, 0, 1, 1, 0, 0, 1, 0, 0, 0, 1, 1, 1, 0, 0, 1, 1, 0, 0, 1, 1, 1, 1, 0, 1, 0, 0, 1, 1, 0, 1, 1, 1, 0, 0, 1, 0, 0, 1, 1, 1, 1, 1, 1, 0, 1, 1, 1, 0, 0, 0, 1, 1, 0, 1, 0, 1, 0, 1, 1, 1, 0, 1, 1, 0, 0, 1, 0, 1, 0, 1, 1, 1, 1, 1, 1, 1, 1, 1, 1, 1, 0, 0, 0, 0, 0, 0, 1, 1, 0, 1, 0, 1, 1, 0, 1, 1, 1, 1, 0, 0, 1, 1, 1, 0, 0, 0, 1, 1, 1, 1, 0, 0, 0, 1, 0, 1, 0, 0, 0, 1, 1, 1, 0, 1, 1, 1, 1, 1, 1, 0, 1, 0, 0, 1, 1, 0, 0, 1, 0, 0, 0, 0, 1, 1, 1, 0, 0, 0, 0, 1, 1, 1, 1, 0, 0, 0, 1, 0, 1, 0, 1, 1, 0, 1, 0, 0, 0, 0, 0, 1, 0, 0, 1, 0, 1, 0, 0, 0, 1, 1, 1, 1, 1, 1, 1, 0, 1, 1, 1, 1, 1, 0, 1, 0, 0, 1, 1, 1, 1, 1, 1, 1, 1, 1, 1, 0, 1, 0, 0, 0, 0, 1, 0, 0, 0, 0, 1, 0, 0, 1, 0, 1, 1, 1, 1, 1, 0, 0, 0, 0, 1, 1, 0, 1, 1, 0, 0, 0, 0, 0, 0, 0, 1, 1, 1, 0, 1, 0, 1, 0, 1, 1, 0, 1, 0, 0, 0, 1, 0, 0, 0, 0, 0, 0, 1, 1, 1, 0, 0, 1, 1, 0, 0, 0, 1, 1, 0, 1, 1, 0, 0, 0, 0, 1, 0, 0, 0, 1, 0, 1, 0, 0, 1, 0, 1, 0, 0, 1, 1, 0, 1, 1, 0, 0, 0, 1, 0, 1, 1, 0, 1, 0, 0, 0, 1, 1, 0, 1, 1, 0, 1, 1, 0, 1, 0, 0, 1, 1, 0, 1, 0, 1, 1, 0, 1, 1, 1, 0, 1, 0, 1, 0, 1, 0, 1, 0, 1, 0, 0, 0, 1, 1, 1, 1, 0, 1, 0, 0, 0, 1, 0, 1, 0, 0, 1, 0, 0, 1, 1, 0, 0, 1, 0, 0, 0, 1, 0, 1, 1, 0, 1, 1, 0, 1, 0, 0, 1, 0, 1, 1, 0, 0, 1, 1, 1, 1, 1, 0, 1, 0, 0, 1, 0, 1, 1, 1, 0, 1, 0, 1, 0, 0, 1, 1, 1, 1, 0, 1, 1, 0, 1, 1, 1, 1, 1, 0, 0, 1, 0, 1, 0, 0, 1, 0, 0, 1, 1, 1, 0, 1, 0, 0, 1, 1, 1, 1, 1]\n"
          ],
          "name": "stdout"
        }
      ]
    },
    {
      "cell_type": "markdown",
      "metadata": {
        "id": "RXxCskS5KhiV"
      },
      "source": [
        "KNN Part"
      ]
    },
    {
      "cell_type": "code",
      "metadata": {
        "id": "C_KVCYfY2oOS",
        "colab": {
          "base_uri": "https://localhost:8080/",
          "height": 228
        },
        "outputId": "bb9c2265-7333-42da-8008-4cbf39bd30c4"
      },
      "source": [
        "knn_ec = KNeighborsClassifier(n_neighbors = 2,algorithm='ball_tree',metric='euclidean')\n",
        "\n",
        "knn_ec.fit(xTrain,yTrain)\n",
        "\n",
        "cv_scores = cross_val_score(knn_ec, listHumHorIm, label, cv=5)\n",
        "\n",
        "print(knn_ec.score(xTest, yTest))\n",
        "\n",
        "pred = knn_ec.predict(xTest)\n",
        "\n",
        "cmat = metrics.confusion_matrix(yTest, pred)\n",
        "print(metrics.classification_report(yTest,pred))\n",
        "\n",
        "print(cv_scores)\n",
        "print(cmat)"
      ],
      "execution_count": null,
      "outputs": [
        {
          "output_type": "stream",
          "text": [
            "1.0\n",
            "              precision    recall  f1-score   support\n",
            "\n",
            "           0       1.00      1.00      1.00        96\n",
            "           1       1.00      1.00      1.00       110\n",
            "\n",
            "    accuracy                           1.00       206\n",
            "   macro avg       1.00      1.00      1.00       206\n",
            "weighted avg       1.00      1.00      1.00       206\n",
            "\n",
            "[1.         1.         1.         1.         0.99512195]\n",
            "[[ 96   0]\n",
            " [  0 110]]\n"
          ],
          "name": "stdout"
        }
      ]
    },
    {
      "cell_type": "code",
      "metadata": {
        "id": "XJjCHAAC8cYt",
        "colab": {
          "base_uri": "https://localhost:8080/",
          "height": 66
        },
        "outputId": "43250459-6578-4bf6-f924-fc539dfc1fec"
      },
      "source": [
        "knn_ec"
      ],
      "execution_count": null,
      "outputs": [
        {
          "output_type": "execute_result",
          "data": {
            "text/plain": [
              "KNeighborsClassifier(algorithm='ball_tree', leaf_size=30, metric='euclidean',\n",
              "                     metric_params=None, n_jobs=None, n_neighbors=2, p=2,\n",
              "                     weights='uniform')"
            ]
          },
          "metadata": {
            "tags": []
          },
          "execution_count": 10
        }
      ]
    },
    {
      "cell_type": "code",
      "metadata": {
        "id": "Bxh5dqub4DBg"
      },
      "source": [
        "k_list = list(range(1,10,2))\n",
        "# creating list of cv scores\n",
        "cv_scores = []\n",
        "\n",
        "# perform 10-fold cross validation\n",
        "for k in k_list:\n",
        "    knn = KNeighborsClassifier(n_neighbors=k)\n",
        "    scores = cross_val_score(knn, xTrain, yTrain, cv=10, scoring='accuracy')\n",
        "    cv_scores.append(scores.mean())"
      ],
      "execution_count": null,
      "outputs": []
    },
    {
      "cell_type": "code",
      "metadata": {
        "id": "xgJ4jNZk3IgU",
        "colab": {
          "base_uri": "https://localhost:8080/",
          "height": 684
        },
        "outputId": "96fbf3ce-092a-4993-97bd-a1b72afe25bd"
      },
      "source": [
        "MSE = [1 - x for x in cv_scores]\n",
        "\n",
        "plt.figure()\n",
        "plt.figure(figsize=(15,10))\n",
        "plt.title('The optimal number of neighbors', fontsize=20, fontweight='bold')\n",
        "plt.xlabel('Number of Neighbors K', fontsize=15)\n",
        "plt.ylabel('Misclassification Error', fontsize=15)\n",
        "sns.set_style(\"whitegrid\")\n",
        "plt.plot(k_list, MSE)\n",
        "\n",
        "plt.show()"
      ],
      "execution_count": null,
      "outputs": [
        {
          "output_type": "stream",
          "text": [
            "/usr/local/lib/python3.6/dist-packages/statsmodels/tools/_testing.py:19: FutureWarning: pandas.util.testing is deprecated. Use the functions in the public API at pandas.testing instead.\n",
            "  import pandas.util.testing as tm\n"
          ],
          "name": "stderr"
        },
        {
          "output_type": "display_data",
          "data": {
            "text/plain": [
              "<Figure size 432x288 with 0 Axes>"
            ]
          },
          "metadata": {
            "tags": []
          }
        },
        {
          "output_type": "display_data",
          "data": {
            "image/png": "[encoded data removed]",
            "text/plain": [
              "<Figure size 1080x720 with 1 Axes>"
            ]
          },
          "metadata": {
            "tags": [],
            "needs_background": "light"
          }
        }
      ]
    },
    {
      "cell_type": "markdown",
      "metadata": {
        "id": "rUemQLKtKq7l"
      },
      "source": [
        "SVM Part"
      ]
    },
    {
      "cell_type": "code",
      "metadata": {
        "id": "ONYkABdu3Jrn",
        "colab": {
          "base_uri": "https://localhost:8080/",
          "height": 33
        },
        "outputId": "2ce0c692-42c0-4d15-e6fd-1fc0efe306a5"
      },
      "source": [
        "svmclf_lin = svm.SVC(kernel='linear',probability=True) # Linear Kernel\n",
        "\n",
        "#Train the model using the training sets\n",
        "svmclf_lin.fit(listHumHorIm,label)\n",
        "\n",
        "cv_scores = cross_val_score(svmclf_lin,listHumHorIm,label, cv=5)\n",
        "\n",
        "#Predict the response for test dataset\n",
        "#pred_lin = svmclf_lin.predict(xTest)\n",
        "\n",
        "#print(\"Accuracy:\",metrics.accuracy_score(yTest,pred_lin))\n",
        "\n",
        "#print(metrics.confusion_matrix(testLabel, pred_lin))\n",
        "\n",
        "print(cv_scores)\n"
      ],
      "execution_count": null,
      "outputs": [
        {
          "output_type": "stream",
          "text": [
            "[0.99514563 1.         0.99512195 1.         0.99512195]\n"
          ],
          "name": "stdout"
        }
      ]
    },
    {
      "cell_type": "code",
      "metadata": {
        "id": "EvKDnKCqRFIl",
        "colab": {
          "base_uri": "https://localhost:8080/",
          "height": 82
        },
        "outputId": "b2f09725-4429-463d-cff7-d90d6f3eb913"
      },
      "source": [
        "svmclf_lin"
      ],
      "execution_count": null,
      "outputs": [
        {
          "output_type": "execute_result",
          "data": {
            "text/plain": [
              "SVC(C=1.0, break_ties=False, cache_size=200, class_weight=None, coef0=0.0,\n",
              "    decision_function_shape='ovr', degree=3, gamma='scale', kernel='linear',\n",
              "    max_iter=-1, probability=True, random_state=None, shrinking=True, tol=0.001,\n",
              "    verbose=False)"
            ]
          },
          "metadata": {
            "tags": []
          },
          "execution_count": 19
        }
      ]
    },
    {
      "cell_type": "code",
      "metadata": {
        "id": "UR9MjbVYNOfN",
        "colab": {
          "base_uri": "https://localhost:8080/",
          "height": 34
        },
        "outputId": "9b50ddf7-8016-4c76-d949-ddde282edd76"
      },
      "source": [
        "cv_scores = cross_val_score(svmclf_lin, listHumHorIm, label, cv=5)\n",
        "print(cv_scores)"
      ],
      "execution_count": null,
      "outputs": [
        {
          "output_type": "stream",
          "text": [
            "[0.96116505 0.95145631 0.95609756 0.96585366 0.95121951]\n"
          ],
          "name": "stdout"
        }
      ]
    },
    {
      "cell_type": "code",
      "metadata": {
        "id": "OAQ0WFYDHDwV",
        "colab": {
          "base_uri": "https://localhost:8080/",
          "height": 295
        },
        "outputId": "933c022e-131e-4e7e-bc1b-85e682e5fcad"
      },
      "source": [
        "# predict probabilities for X_test using predict_proba\n",
        "probabilities = svmclf_lin.predict_proba(xTest)\n",
        "\n",
        "# select the probabilities for label 1.0\n",
        "y_proba = probabilities[:, 1]\n",
        "\n",
        "# calculate false positive rate and true positive rate at different thresholds\n",
        "false_positive_rate, true_positive_rate, thresholds = roc_curve(yTest, y_proba, pos_label=1)\n",
        "\n",
        "# calculate AUC\n",
        "roc_auc = auc(false_positive_rate, true_positive_rate)\n",
        "\n",
        "plt.title('Receiver Operating Characteristic')\n",
        "# plot the false positive rate on the x axis and the true positive rate on the y axis\n",
        "roc_plot = plt.plot(false_positive_rate,\n",
        "                    true_positive_rate,\n",
        "                    label='AUC = {:0.2f}'.format(roc_auc))\n",
        "\n",
        "plt.legend(loc=0)\n",
        "plt.plot([0,1], [0,1], ls='--')\n",
        "plt.ylabel('True Positive Rate')\n",
        "plt.xlabel('False Positive Rate');"
      ],
      "execution_count": null,
      "outputs": [
        {
          "output_type": "display_data",
          "data": {
            "image/png": "[encoded data removed]",
            "text/plain": [
              "<Figure size 432x288 with 1 Axes>"
            ]
          },
          "metadata": {
            "tags": [],
            "needs_background": "light"
          }
        }
      ]
    },
    {
      "cell_type": "markdown",
      "metadata": {
        "id": "3PYyHG9pLNQu"
      },
      "source": [
        "DL Part"
      ]
    },
    {
      "cell_type": "code",
      "metadata": {
        "id": "7hLC2XO3JZxv"
      },
      "source": [
        "\n",
        "model = tf.keras.models.Sequential([\n",
        "    # Note the input shape is the desired size of the image 300x300 with 3 bytes color\n",
        "    # This is the first convolution\n",
        "    tf.keras.layers.Conv2D(16, (3,3), activation='relu', input_shape=(300, 300, 3)),\n",
        "    tf.keras.layers.MaxPooling2D(2, 2),\n",
        "    # The third convolution\n",
        "    tf.keras.layers.Conv2D(64, (3,3), activation='relu'),\n",
        "    tf.keras.layers.MaxPooling2D(2,2),\n",
        "    # The fourth convolution\n",
        "    tf.keras.layers.Conv2D(64, (3,3), activation='relu'),\n",
        "    tf.keras.layers.MaxPooling2D(2,2),\n",
        "    # The fifth convolution\n",
        "    tf.keras.layers.Conv2D(64, (3,3), activation='relu'),\n",
        "    tf.keras.layers.MaxPooling2D(2,2),\n",
        "    # Flatten the results to feed into a DNN\n",
        "    tf.keras.layers.Flatten(),\n",
        "    # 512 neuron hidden layer\n",
        "    tf.keras.layers.Dense(512, activation='relu'),\n",
        "    # Only 1 output neuron. It will contain a value from 0-1 where 0 for 1 class ('horses') and 1 for the other ('humans')\n",
        "    tf.keras.layers.Dense(1, activation='sigmoid')\n",
        "])\n",
        "\n",
        "\n",
        "model.compile(loss='binary_crossentropy',\n",
        "              optimizer=RMSprop(lr=0.001),\n",
        "              metrics=['acc'])"
      ],
      "execution_count": null,
      "outputs": []
    },
    {
      "cell_type": "code",
      "metadata": {
        "id": "lLmfTn3PQBMu",
        "colab": {
          "base_uri": "https://localhost:8080/",
          "height": 505
        },
        "outputId": "77967484-8e4f-410c-99e1-5c5d15134e3d"
      },
      "source": [
        "model.summary()"
      ],
      "execution_count": null,
      "outputs": [
        {
          "output_type": "stream",
          "text": [
            "Model: \"sequential\"\n",
            "_________________________________________________________________\n",
            "Layer (type)                 Output Shape              Param #   \n",
            "=================================================================\n",
            "conv2d (Conv2D)              (None, 298, 298, 16)      448       \n",
            "_________________________________________________________________\n",
            "max_pooling2d (MaxPooling2D) (None, 149, 149, 16)      0         \n",
            "_________________________________________________________________\n",
            "conv2d_1 (Conv2D)            (None, 147, 147, 64)      9280      \n",
            "_________________________________________________________________\n",
            "max_pooling2d_1 (MaxPooling2 (None, 73, 73, 64)        0         \n",
            "_________________________________________________________________\n",
            "conv2d_2 (Conv2D)            (None, 71, 71, 64)        36928     \n",
            "_________________________________________________________________\n",
            "max_pooling2d_2 (MaxPooling2 (None, 35, 35, 64)        0         \n",
            "_________________________________________________________________\n",
            "conv2d_3 (Conv2D)            (None, 33, 33, 64)        36928     \n",
            "_________________________________________________________________\n",
            "max_pooling2d_3 (MaxPooling2 (None, 16, 16, 64)        0         \n",
            "_________________________________________________________________\n",
            "flatten (Flatten)            (None, 16384)             0         \n",
            "_________________________________________________________________\n",
            "dense (Dense)                (None, 512)               8389120   \n",
            "_________________________________________________________________\n",
            "dense_1 (Dense)              (None, 1)                 513       \n",
            "=================================================================\n",
            "Total params: 8,473,217\n",
            "Trainable params: 8,473,217\n",
            "Non-trainable params: 0\n",
            "_________________________________________________________________\n"
          ],
          "name": "stdout"
        }
      ]
    },
    {
      "cell_type": "code",
      "metadata": {
        "id": "c8584AlTJmCL",
        "colab": {
          "base_uri": "https://localhost:8080/",
          "height": 33
        },
        "outputId": "7d4c3bfa-c5d8-487d-909f-342d2f5cd72f"
      },
      "source": [
        "train_datagen = ImageDataGenerator(rescale=1/255)\n",
        "\n",
        "# Flow training images in batches of 128 using train_datagen generator\n",
        "train_generator = train_datagen.flow_from_directory(\n",
        "        '/tmp/horse-or-human/',  # This is the source directory for training images\n",
        "        target_size=(300, 300),  # All images will be resized to 300x300\n",
        "        batch_size=128,\n",
        "        # Since we use binary_crossentropy loss, we need binary labels\n",
        "        class_mode='binary')"
      ],
      "execution_count": null,
      "outputs": [
        {
          "output_type": "stream",
          "text": [
            "Found 1027 images belonging to 2 classes.\n"
          ],
          "name": "stdout"
        }
      ]
    },
    {
      "cell_type": "code",
      "metadata": {
        "id": "0ZTOwrxtJtRK",
        "colab": {
          "base_uri": "https://localhost:8080/",
          "height": 553
        },
        "outputId": "35294bd7-a0c1-40cc-a773-876592559516"
      },
      "source": [
        "history = model.fit_generator(\n",
        "      train_generator,\n",
        "      steps_per_epoch=8,  \n",
        "      epochs=15,\n",
        "      verbose=2)"
      ],
      "execution_count": null,
      "outputs": [
        {
          "output_type": "stream",
          "text": [
            "WARNING:tensorflow:From <ipython-input-11-71985df7ad5d>:5: Model.fit_generator (from tensorflow.python.keras.engine.training) is deprecated and will be removed in a future version.\n",
            "Instructions for updating:\n",
            "Please use Model.fit, which supports generators.\n",
            "Epoch 1/15\n",
            "8/8 - 15s - loss: 1.7054 - acc: 0.5557\n",
            "Epoch 2/15\n",
            "8/8 - 13s - loss: 0.6989 - acc: 0.6207\n",
            "Epoch 3/15\n",
            "8/8 - 15s - loss: 0.8575 - acc: 0.6830\n",
            "Epoch 4/15\n",
            "8/8 - 13s - loss: 0.4548 - acc: 0.7686\n",
            "Epoch 5/15\n",
            "8/8 - 13s - loss: 0.2442 - acc: 0.9077\n",
            "Epoch 6/15\n",
            "8/8 - 13s - loss: 0.4167 - acc: 0.9021\n",
            "Epoch 7/15\n",
            "8/8 - 13s - loss: 1.4629 - acc: 0.8087\n",
            "Epoch 8/15\n",
            "8/8 - 14s - loss: 0.1272 - acc: 0.9551\n",
            "Epoch 9/15\n",
            "8/8 - 13s - loss: 0.2027 - acc: 0.9266\n",
            "Epoch 10/15\n",
            "8/8 - 12s - loss: 0.0510 - acc: 0.9867\n",
            "Epoch 11/15\n",
            "8/8 - 12s - loss: 0.0266 - acc: 0.9900\n",
            "Epoch 12/15\n",
            "8/8 - 12s - loss: 0.4252 - acc: 0.8854\n",
            "Epoch 13/15\n",
            "8/8 - 13s - loss: 0.0932 - acc: 0.9648\n",
            "Epoch 14/15\n",
            "8/8 - 12s - loss: 0.0150 - acc: 0.9967\n",
            "Epoch 15/15\n",
            "8/8 - 12s - loss: 3.4373 - acc: 0.8643\n"
          ],
          "name": "stdout"
        }
      ]
    },
    {
      "cell_type": "code",
      "metadata": {
        "id": "mvFK9K6T9nR_",
        "colab": {
          "base_uri": "https://localhost:8080/",
          "height": 325
        },
        "outputId": "1ef00a84-ab45-467e-ef85-7195ec3e0fad"
      },
      "source": [
        "plt.plot(history.history['acc'],c='k',lw=2)\n",
        "plt.grid(True)\n",
        "plt.title(\"Training accuracy with epochs\\n\",fontsize=18)\n",
        "plt.xlabel(\"Training epochs\",fontsize=15)\n",
        "plt.ylabel(\"Training accuracy\",fontsize=15)\n",
        "plt.show()"
      ],
      "execution_count": null,
      "outputs": [
        {
          "output_type": "display_data",
          "data": {
            "image/png": "[encoded data removed]",
            "text/plain": [
              "<Figure size 432x288 with 1 Axes>"
            ]
          },
          "metadata": {
            "tags": [],
            "needs_background": "light"
          }
        }
      ]
    },
    {
      "cell_type": "code",
      "metadata": {
        "id": "p-komZFuTcCm"
      },
      "source": [
        "listHumHorIm1 =  []\n",
        "label =  []\n",
        "\n",
        "for path in (horse_img_files):\n",
        "  img = cv2.imread(path)\n",
        "  img=img.reshape(img.shape[0],img.shape[1]*img.shape[2])\n",
        "  listHumHorIm1.append(img)\n",
        "  label.append(0)\n",
        "\n",
        "for path in (human_img_files):\n",
        "  img = cv2.imread(path)\n",
        "  img=img.reshape(img.shape[0],img.shape[1]*img.shape[2])\n",
        "  listHumHorIm1.append(img)\n",
        "  label.append(1)\n"
      ],
      "execution_count": null,
      "outputs": []
    },
    {
      "cell_type": "code",
      "metadata": {
        "id": "fb7-Gm1EJ7HK"
      },
      "source": [
        "def pcaSK(sample,components):\n",
        "  pca = PCA()\n",
        "  pca.n_components = components\n",
        "  pca_data = pca.fit_transform(sample)\n",
        "  return pca_data\n",
        "\n",
        "pcaSet=[]\n",
        "for i in range(len(listHumHorIm1)):\n",
        "  pcaSet.append(pcaSK(listHumHorIm1[i],40))\n",
        " \n",
        "pcaSet = np.array(pcaSet)\n",
        "\n",
        "nsamples, nx, ny = pcaSet.shape\n",
        "pcaSet = pcaSet.reshape((nsamples,nx*ny))"
      ],
      "execution_count": null,
      "outputs": []
    },
    {
      "cell_type": "code",
      "metadata": {
        "id": "uyHwo0swjPDv",
        "colab": {
          "base_uri": "https://localhost:8080/",
          "height": 33
        },
        "outputId": "35c31f1d-56a5-4edd-ea53-f8634e0f4baf"
      },
      "source": [
        "xTrain, xTest, yTrain, yTest = train_test_split(pcaSet, label, test_size = 0.2, random_state = 0)\n",
        "\n",
        "\n",
        "model = RandomForestClassifier(n_estimators=1000, \n",
        "                               bootstrap = True,\n",
        "                               max_features = 'sqrt')\n",
        "model.fit(xTrain, yTrain)\n",
        "\n",
        "testRes = model.predict(xTest)\n",
        "\n",
        "accuracy=metrics.accuracy_score(testRes, yTest)\n",
        "print(accuracy)"
      ],
      "execution_count": null,
      "outputs": [
        {
          "output_type": "stream",
          "text": [
            "0.8592233009708737\n"
          ],
          "name": "stdout"
        }
      ]
    },
    {
      "cell_type": "code",
      "metadata": {
        "id": "k5qeTbFEVzAn",
        "colab": {
          "base_uri": "https://localhost:8080/",
          "height": 33
        },
        "outputId": "a4c89b77-f257-42ff-f36d-5beceeb429f2"
      },
      "source": [
        "xTrain, xTest, yTrain, yTest = train_test_split(pcaSet, label, test_size = 0.3, random_state = 0)\n",
        "\n",
        "\n",
        "model = RandomForestClassifier(n_estimators=1000, \n",
        "                               bootstrap = True,\n",
        "                               max_features = 'sqrt')\n",
        "model.fit(xTrain, yTrain)\n",
        "\n",
        "testRes = model.predict(xTest)\n",
        "\n",
        "accuracy=metrics.accuracy_score(testRes, yTest)\n",
        "print(accuracy)"
      ],
      "execution_count": null,
      "outputs": [
        {
          "output_type": "stream",
          "text": [
            "0.8187702265372169\n"
          ],
          "name": "stdout"
        }
      ]
    },
    {
      "cell_type": "code",
      "metadata": {
        "id": "V1-FWBce4uD2",
        "colab": {
          "base_uri": "https://localhost:8080/",
          "height": 147
        },
        "outputId": "4e11dda2-2407-49ae-f203-8b852eca271b"
      },
      "source": [
        "model"
      ],
      "execution_count": null,
      "outputs": [
        {
          "output_type": "execute_result",
          "data": {
            "text/plain": [
              "RandomForestClassifier(bootstrap=True, ccp_alpha=0.0, class_weight=None,\n",
              "                       criterion='gini', max_depth=None, max_features='sqrt',\n",
              "                       max_leaf_nodes=None, max_samples=None,\n",
              "                       min_impurity_decrease=0.0, min_impurity_split=None,\n",
              "                       min_samples_leaf=1, min_samples_split=2,\n",
              "                       min_weight_fraction_leaf=0.0, n_estimators=1000,\n",
              "                       n_jobs=None, oob_score=False, random_state=None,\n",
              "                       verbose=0, warm_start=False)"
            ]
          },
          "metadata": {
            "tags": []
          },
          "execution_count": 11
        }
      ]
    },
    {
      "cell_type": "code",
      "metadata": {
        "id": "GFTABZ7rV9Lw",
        "colab": {
          "base_uri": "https://localhost:8080/",
          "height": 295
        },
        "outputId": "e48aa683-cf5a-446b-c3a8-9c0af2eafb20"
      },
      "source": [
        "# predict probabilities for X_test using predict_proba\n",
        "probabilities = model.predict_proba(xTest)\n",
        "\n",
        "# select the probabilities for label 1.0\n",
        "y_proba = probabilities[:, 1]\n",
        "\n",
        "# calculate false positive rate and true positive rate at different thresholds\n",
        "false_positive_rate, true_positive_rate, thresholds = roc_curve(yTest, y_proba, pos_label=1)\n",
        "\n",
        "# calculate AUC\n",
        "roc_auc = auc(false_positive_rate, true_positive_rate)\n",
        "\n",
        "plt.title('Receiver Operating Characteristic')\n",
        "# plot the false positive rate on the x axis and the true positive rate on the y axis\n",
        "roc_plot = plt.plot(false_positive_rate,\n",
        "                    true_positive_rate,\n",
        "                    label='AUC = {:0.2f}'.format(roc_auc))\n",
        "\n",
        "plt.legend(loc=0)\n",
        "plt.plot([0,1], [0,1], ls='--')\n",
        "plt.ylabel('True Positive Rate')\n",
        "plt.xlabel('False Positive Rate');"
      ],
      "execution_count": null,
      "outputs": [
        {
          "output_type": "display_data",
          "data": {
            "image/png": "[encoded data removed]",
            "text/plain": [
              "<Figure size 432x288 with 1 Axes>"
            ]
          },
          "metadata": {
            "tags": [],
            "needs_background": "light"
          }
        }
      ]
    },
    {
      "cell_type": "code",
      "metadata": {
        "id": "ZT6Kp8wy1_td"
      },
      "source": [
        ""
      ],
      "execution_count": null,
      "outputs": []
    }
  ]
}